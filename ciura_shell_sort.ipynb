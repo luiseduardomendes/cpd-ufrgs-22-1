{
 "cells": [
  {
   "cell_type": "code",
   "execution_count": 26,
   "metadata": {},
   "outputs": [],
   "source": [
    "def shellsort (arr : list, engine : str = 'KNUTH') -> list:\n",
    "    N = len(arr)\n",
    "\n",
    "    filename = \"saida1.txt\"\n",
    "\n",
    "    with open(filename, 'w') as file:\n",
    "\n",
    "    if engine == 'CIURA':\n",
    "        ciura = [1,4,10,23,57,132,301,701,1577,3548,7983,17961,40412,90927,204585,460316,1035711]\n",
    "\n",
    "        for i in arr[:-1]:\n",
    "            file.append(f'{i}, ')\n",
    "        file.append(f'{i} SEQ=CIURA\\n')\n",
    "        \n",
    "        i = 0\n",
    "        while ciura[i] < N:\n",
    "            i += 1\n",
    "\n",
    "        ciura = ciura[:i]\n",
    "        ciura.reverse()\n",
    "\n",
    "        for h in ciura:\n",
    "            for i in range(h, N):\n",
    "                t = arr[i]\n",
    "                j = i\n",
    "                while j >= h and t < arr[j - h]: \n",
    "                    arr[j] = arr[j-h]\n",
    "                    arr[j-h] = t\n",
    "                    j -= h\n",
    "            for i in arr[:-1]:\n",
    "                file.append(f'{i}, ')\n",
    "            file.append(f'{i} INCR={h}\\n')\n",
    "            \n",
    "    else:\n",
    "        h = 1\n",
    "        if engine == 'KNUTH':\n",
    "            for i in arr[:-1]:\n",
    "                file.append(f'{i}, ')\n",
    "            file.append(f'{i} SEQ=KNUTH\\n')\n",
    "            x = 3\n",
    "            while h < N // 3:\n",
    "                h = 3*h + 1\n",
    "        elif engine == 'SHELL':\n",
    "            for i in arr[:-1]:\n",
    "                file.append(f'{i}, ')\n",
    "            file.append(f'{i} SEQ=SHELL\\n')\n",
    "            x = 2\n",
    "            while h < N // 2:\n",
    "                h = 2*h\n",
    "\n",
    "        while h >= 1:\n",
    "            for i in range(h, N):\n",
    "                t = arr[i]\n",
    "                j = i\n",
    "                while j >= h and t < arr[j - h]: \n",
    "                    arr[j] = arr[j-h]\n",
    "                    arr[j-h] = t\n",
    "                    j -= h\n",
    "            for i in arr[:-1]:\n",
    "                file.append(f'{i}, ')\n",
    "            file.append(f'{i} INCR={h}\\n')\n",
    "            h //= x\n",
    "\n",
    "    file.close()\n",
    "\n",
    "    return arr\n",
    "\n"
   ]
  },
  {
   "cell_type": "code",
   "execution_count": 39,
   "metadata": {},
   "outputs": [
    {
     "data": {
      "text/html": [
       "<div>\n",
       "<style scoped>\n",
       "    .dataframe tbody tr th:only-of-type {\n",
       "        vertical-align: middle;\n",
       "    }\n",
       "\n",
       "    .dataframe tbody tr th {\n",
       "        vertical-align: top;\n",
       "    }\n",
       "\n",
       "    .dataframe thead th {\n",
       "        text-align: right;\n",
       "    }\n",
       "</style>\n",
       "<table border=\"1\" class=\"dataframe\">\n",
       "  <thead>\n",
       "    <tr style=\"text-align: right;\">\n",
       "      <th></th>\n",
       "      <th>KNUTH</th>\n",
       "      <th>SHELL</th>\n",
       "      <th>CIURA</th>\n",
       "    </tr>\n",
       "  </thead>\n",
       "  <tbody>\n",
       "    <tr>\n",
       "      <th>1000</th>\n",
       "      <td>0.002999</td>\n",
       "      <td>0.004999</td>\n",
       "      <td>0.000000</td>\n",
       "    </tr>\n",
       "    <tr>\n",
       "      <th>10000</th>\n",
       "      <td>0.037998</td>\n",
       "      <td>0.070006</td>\n",
       "      <td>0.000000</td>\n",
       "    </tr>\n",
       "    <tr>\n",
       "      <th>100000</th>\n",
       "      <td>0.355953</td>\n",
       "      <td>1.080679</td>\n",
       "      <td>0.000000</td>\n",
       "    </tr>\n",
       "    <tr>\n",
       "      <th>1000000</th>\n",
       "      <td>4.413782</td>\n",
       "      <td>12.107715</td>\n",
       "      <td>0.005000</td>\n",
       "    </tr>\n",
       "    <tr>\n",
       "      <th>10000000</th>\n",
       "      <td>46.811344</td>\n",
       "      <td>145.744741</td>\n",
       "      <td>0.057001</td>\n",
       "    </tr>\n",
       "  </tbody>\n",
       "</table>\n",
       "</div>"
      ],
      "text/plain": [
       "              KNUTH       SHELL     CIURA\n",
       "1000       0.002999    0.004999  0.000000\n",
       "10000      0.037998    0.070006  0.000000\n",
       "100000     0.355953    1.080679  0.000000\n",
       "1000000    4.413782   12.107715  0.005000\n",
       "10000000  46.811344  145.744741  0.057001"
      ]
     },
     "execution_count": 39,
     "metadata": {},
     "output_type": "execute_result"
    }
   ],
   "source": [
    "from random import randint\n",
    "import matplotlib.pyplot as plt\n",
    "from time import time\n",
    "import pandas as pd\n",
    "\n",
    "size = 1000\n",
    "scale = 5\n",
    "arrays = []\n",
    "num = []\n",
    "for a in range (scale):\n",
    "    arrays.append([randint(0, 20) for i in range(size * (10**a))])\n",
    "    num.append(size * (10**a))\n",
    "\n",
    "keys = ('KNUTH', 'SHELL', 'CIURA')\n",
    "df = {}\n",
    "for key in keys:\n",
    "    df[key] = []\n",
    "\n",
    "for key in keys:\n",
    "    for array in arrays:\n",
    "        start = time()\n",
    "        shellsort(array[:], key)\n",
    "        end = time()\n",
    "        df[key].append(end-start)\n",
    "\n",
    "df = pd.DataFrame(df, num)\n",
    "\n",
    "df"
   ]
  },
  {
   "cell_type": "code",
   "execution_count": 38,
   "metadata": {},
   "outputs": [
    {
     "data": {
      "text/plain": [
       "<AxesSubplot:>"
      ]
     },
     "execution_count": 38,
     "metadata": {},
     "output_type": "execute_result"
    },
    {
     "data": {
      "image/png": "[encoded data removed]",
      "text/plain": [
       "<Figure size 432x288 with 1 Axes>"
      ]
     },
     "metadata": {
      "needs_background": "light"
     },
     "output_type": "display_data"
    }
   ],
   "source": [
    "df.plot.barh()\n"
   ]
  },
  {
   "cell_type": "code",
   "execution_count": 43,
   "metadata": {},
   "outputs": [],
   "source": [
    "filename = 'data.txt'\n",
    "execution_time = 0.5\n",
    "with open(filename, 'w') as f:\n",
    "    f.write(f'texto 1')\n",
    "    f.close()\n",
    "\n",
    "    "
   ]
  },
  {
   "cell_type": "code",
   "execution_count": null,
   "metadata": {},
   "outputs": [],
   "source": [
    "filename ='entrada1.txt'\n",
    "\n",
    "keys = ('KNUTH', 'SHELL', 'CIURA')\n",
    "\n",
    "with open(filename) as f:\n",
    "    for line in f:\n",
    "        arr = line[:-1].split(sep=' ')\n",
    "        arr.pop(0)\n",
    "        for key in keys:\n",
    "            a = shellsort(arr[:], key)\n",
    "\n",
    "        "
   ]
  }
 ],
 "metadata": {
  "kernelspec": {
   "display_name": "Python 3.9.12 ('base')",
   "language": "python",
   "name": "python3"
  },
  "language_info": {
   "codemirror_mode": {
    "name": "ipython",
    "version": 3
   },
   "file_extension": ".py",
   "mimetype": "text/x-python",
   "name": "python",
   "nbconvert_exporter": "python",
   "pygments_lexer": "ipython3",
   "version": "3.9.12"
  },
  "orig_nbformat": 4,
  "vscode": {
   "interpreter": {
    "hash": "02c1b4ef390a5efa9184e7809e1c04e02d7699a783b26d72e51ddd5cfed96e3f"
   }
  }
 },
 "nbformat": 4,
 "nbformat_minor": 2
}
