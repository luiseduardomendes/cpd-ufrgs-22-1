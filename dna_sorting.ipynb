{
 "cells": [
  {
   "cell_type": "code",
   "execution_count": 4,
   "metadata": {},
   "outputs": [],
   "source": [
    "def get_unsortness(array):\n",
    "    unsortness = 0\n",
    "    for i, e in enumerate(array):\n",
    "        for j in array[i:]:\n",
    "            if (e > j):\n",
    "                unsortness += 1\n",
    "    return unsortness\n"
   ]
  },
  {
   "cell_type": "code",
   "execution_count": 1,
   "metadata": {},
   "outputs": [],
   "source": [
    "def _read_input():\n",
    "    \n",
    "    a = input()\n",
    "    input()\n",
    "    a = input()\n",
    "    M, N = a.split()\n",
    "    M = int(M)\n",
    "    N = int(N)\n",
    "\n",
    "    arr = []\n",
    "    for line in range(N):\n",
    "        arr.append(input())\n",
    "    \n",
    "    return arr"
   ]
  },
  {
   "cell_type": "code",
   "execution_count": 8,
   "metadata": {},
   "outputs": [],
   "source": [
    "def insertion_sort(sort_array, arr2):\n",
    "    for i in range(len(sort_array)):\n",
    "        key = sort_array[i]\n",
    "        temp = arr2[i]\n",
    "        j = i-1\n",
    "        while j >= 0 and sort_array[j] > key:\n",
    "            arr2[j+1] = arr2[j]\n",
    "            sort_array[j+1] = sort_array[j]\n",
    "            j = j-1\n",
    "        arr2[j+1] = temp\n",
    "        sort_array[j+1] = key\n",
    "    return sort_array"
   ]
  },
  {
   "cell_type": "code",
   "execution_count": 17,
   "metadata": {},
   "outputs": [],
   "source": [
    "def sort_data_sets(ds):\n",
    "    unsortness = []\n",
    "    for set in ds:\n",
    "        unsortness.append(get_unsortness(set))\n",
    "\n",
    "    insertion_sort(unsortness, ds)\n",
    "    return ds"
   ]
  },
  {
   "cell_type": "code",
   "execution_count": 18,
   "metadata": {},
   "outputs": [
    {
     "data": {
      "text/plain": [
       "['\\n',\n",
       " '\\n',\n",
       " '\\n',\n",
       " '\\n',\n",
       " '\\n',\n",
       " '\\n',\n",
       " '\\n',\n",
       " '\\n',\n",
       " '\\n',\n",
       " 'C\\n',\n",
       " 'T\\n',\n",
       " 'T\\n',\n",
       " 'GAT',\n",
       " 'CGG\\n',\n",
       " 'TTT\\n',\n",
       " 'CTT\\n',\n",
       " 'AAG\\n',\n",
       " 'CGT\\n',\n",
       " '5 5\\n',\n",
       " '1 3\\n',\n",
       " '3 9\\n',\n",
       " '5 8\\n',\n",
       " '3 6\\n',\n",
       " 'AGC\\n',\n",
       " '7 2\\n',\n",
       " '6 1\\n',\n",
       " '6 3\\n',\n",
       " '8 7\\n',\n",
       " 'GAC\\n',\n",
       " 'TAC\\n',\n",
       " 'TGG\\n',\n",
       " 'CAA\\n',\n",
       " 'TAA\\n',\n",
       " 'TCG\\n',\n",
       " 'AACTC\\n',\n",
       " 'AACCCC\\n',\n",
       " 'TGA\\n',\n",
       " 'ACCGC\\n',\n",
       " 'GCA\\n',\n",
       " 'AAGAC\\n',\n",
       " 'AGATC\\n',\n",
       " 'TATGT\\n',\n",
       " 'AGCGC\\n',\n",
       " 'TCCTC\\n',\n",
       " 'TAATC\\n',\n",
       " 'GAGGA\\n',\n",
       " 'GGCTGTT\\n',\n",
       " 'ATTCCT\\n',\n",
       " 'GCCAG\\n',\n",
       " 'TAGTC\\n',\n",
       " 'CCAAGC\\n',\n",
       " 'ATCTCGT\\n',\n",
       " 'TTACA\\n',\n",
       " 'GCCACGG\\n',\n",
       " 'AGGATAG\\n',\n",
       " 'GACGTGTG\\n',\n",
       " 'GGCCA\\n',\n",
       " 'CAGCGTTC\\n',\n",
       " 'TATGCGT\\n',\n",
       " 'TTATGA\\n',\n",
       " 'GTAATCG\\n',\n",
       " 'CTGAGCC\\n',\n",
       " 'AGTGAGGA\\n',\n",
       " 'GTTTCAGT\\n',\n",
       " 'ATGTAAAA\\n',\n",
       " 'AGGCTCCA\\n',\n",
       " 'GCCAAAAA\\n']"
      ]
     },
     "execution_count": 18,
     "metadata": {},
     "output_type": "execute_result"
    }
   ],
   "source": [
    "ds = _read_input()\n",
    "a = sort_data_sets(ds[:])\n",
    "print"
   ]
  }
 ],
 "metadata": {
  "kernelspec": {
   "display_name": "Python 3.9.12 ('base')",
   "language": "python",
   "name": "python3"
  },
  "language_info": {
   "codemirror_mode": {
    "name": "ipython",
    "version": 3
   },
   "file_extension": ".py",
   "mimetype": "text/x-python",
   "name": "python",
   "nbconvert_exporter": "python",
   "pygments_lexer": "ipython3",
   "version": "3.9.12"
  },
  "orig_nbformat": 4,
  "vscode": {
   "interpreter": {
    "hash": "02c1b4ef390a5efa9184e7809e1c04e02d7699a783b26d72e51ddd5cfed96e3f"
   }
  }
 },
 "nbformat": 4,
 "nbformat_minor": 2
}
